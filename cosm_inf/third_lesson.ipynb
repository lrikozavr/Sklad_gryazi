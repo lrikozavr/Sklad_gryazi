{
 "cells": [
  {
   "cell_type": "code",
   "execution_count": 2,
   "metadata": {},
   "outputs": [],
   "source": [
    "import numpy as np"
   ]
  },
  {
   "cell_type": "code",
   "execution_count": 3,
   "metadata": {},
   "outputs": [
    {
     "name": "stdout",
     "output_type": "stream",
     "text": [
      "[0.18026969 0.01947524 0.46321853 0.72493393 0.4202036  0.4854271\n",
      " 0.01278081 0.48737161 0.94180665 0.85079509 0.72996447 0.10873607\n",
      " 0.89390417 0.85715425 0.16508662] \n",
      "\n",
      "[0.46321853 0.4202036  0.4854271  0.48737161] \n",
      "\n",
      "[0.72493393 0.94180665 0.85079509 0.72996447 0.89390417 0.85715425]\n"
     ]
    }
   ],
   "source": [
    "def extract_inrange(input_array, start, stop):\n",
    "    \"\"\"\n",
    "    input_array: 1d ndarray \n",
    "    start: int\n",
    "    stop: int\n",
    "    return: 1d ndarray / an input array without values from start to stop including\n",
    "    \"\"\"\n",
    "    return input_array[((input_array > start)) & ((input_array < stop))]\n",
    "\n",
    "\n",
    "\n",
    "np.random.seed(11)\n",
    "my_array = np.random.random(15)\n",
    "print(my_array, '\\n')\n",
    "print(extract_inrange(my_array, 0.3, 0.5), '\\n')\n",
    "print(extract_inrange(my_array, 0.5, 1.5))"
   ]
  },
  {
   "cell_type": "code",
   "execution_count": 6,
   "metadata": {},
   "outputs": [
    {
     "name": "stdout",
     "output_type": "stream",
     "text": [
      "[0.18026969 0.01947524 0.46321853 0.72493393 0.4202036  0.4854271\n",
      " 0.01278081 0.48737161 0.94180665 0.85079509]\n",
      "(0.4873716073198716, 7)\n"
     ]
    }
   ],
   "source": [
    "def nearest_value(input_array, value):\n",
    "    \"\"\"\n",
    "    input array: 1d ndarray\n",
    "    value: float\n",
    "    return: float, int / value and index from an array\n",
    "    \"\"\"\n",
    "    min, min_index = 1e+6, 0\n",
    "    for index,value_array in enumerate(input_array):\n",
    "        delta = abs(value - value_array)\n",
    "        if(min > delta):\n",
    "            min = delta\n",
    "            min_index = index\n",
    "    return tuple([input_array[min_index],min_index])\n",
    "\n",
    "\n",
    "\n",
    "np.random.seed(11)\n",
    "my_array = np.random.uniform(0,1,10)\n",
    "\n",
    "print(my_array)\n",
    "print(nearest_value(my_array, 0.5))"
   ]
  },
  {
   "cell_type": "code",
   "execution_count": 10,
   "metadata": {},
   "outputs": [
    {
     "name": "stdout",
     "output_type": "stream",
     "text": [
      "[9 0 1 7 1 7 2 8 0 0]\n",
      "['4.250', '2.250', '4.000', '4.250', '4.500', '4.250', '2.500']\n"
     ]
    }
   ],
   "source": [
    "def moving_average(input_array, w):\n",
    "    \"\"\"\n",
    "    input_array: 1d nd array\n",
    "    w: int / window\n",
    "    return: 1d ndarray\n",
    "    \"\"\"\n",
    "    shift = w//2 + w%2 - 1\n",
    "    output_array = np.empty(input_array.size - w + 1)\n",
    "    \n",
    "    window = w // 2\n",
    "    additional_value = 0\n",
    "    if(w % 2 == 0):\n",
    "        additional_value += 1\n",
    "\n",
    "    for i in range(shift,input_array.size - window,1):\n",
    "        a = i - window + additional_value    \n",
    "        b = i + window\n",
    "        \n",
    "        output_array[i - shift] = input_array[a:b+1].sum() / w\n",
    "    return output_array\n",
    "\n",
    "np.random.seed(11)\n",
    "input_array = np.random.randint(10, size=10)\n",
    "\n",
    "print(input_array)\n",
    "print(['{:.3f}'.format(el) for el in moving_average(input_array, 4)])"
   ]
  },
  {
   "cell_type": "code",
   "execution_count": 37,
   "metadata": {},
   "outputs": [
    {
     "name": "stdout",
     "output_type": "stream",
     "text": [
      "[1 2 2 1 3 4 3 1 1 2 1 1 2]\n",
      "There is no \"0\" in the input array\n",
      "None \n",
      "\n",
      "There are less \"4\" than 5\n",
      "None \n",
      "\n",
      "7\n"
     ]
    }
   ],
   "source": [
    "def find_repetition(input_array, item, n):\n",
    "    \"\"\"\n",
    "    input_array: ndarray\n",
    "    item: int / a target value\n",
    "    n: int / number of repetition\n",
    "    return: int / index\n",
    "    \"\"\"\n",
    "    item_index = None\n",
    "    count = 0\n",
    "    for index, value in enumerate(input_array):\n",
    "        if(value == item):\n",
    "            count += 1\n",
    "            if (count == n):\n",
    "                item_index = index\n",
    "    if(item_index == None):\n",
    "        if(count == 0):\n",
    "            print(f\"There is no \\\"{item}\\\" in the input array\")\n",
    "        elif(count < n):\n",
    "            print(f\"There are less \\\"{item}\\\" than {n}\")\n",
    "\n",
    "    return item_index\n",
    "\n",
    "input_array = np.array([1, 2, 2, 1, 3, 4, 3, 1, 1, 2, 1, 1, 2])\n",
    "\n",
    "print(input_array)\n",
    "print(find_repetition(input_array, 0, 3), '\\n')\n",
    "print(find_repetition(input_array, 4, 5), '\\n')\n",
    "print(find_repetition(input_array, 1, 3))"
   ]
  },
  {
   "cell_type": "code",
   "execution_count": 45,
   "metadata": {},
   "outputs": [
    {
     "name": "stdout",
     "output_type": "stream",
     "text": [
      "[1 0 3 1 4 1 2 0 4 0]\n",
      "[ True  True  True False  True False  True False False False]\n"
     ]
    }
   ],
   "source": [
    "def mark_first(input_array):\n",
    "    \"\"\"\n",
    "    input_array: 1d ndarray \n",
    "    return: 1d ndarray / boolean mask\n",
    "    \"\"\"\n",
    "    glosary = []\n",
    "    output_array = np.empty(input_array.size,dtype=np.bool8)\n",
    "    for index, value in enumerate(input_array):\n",
    "        if value in glosary:\n",
    "            output_array[index] = False\n",
    "        else:\n",
    "            output_array[index] = True\n",
    "            glosary.append(value)\n",
    "    return output_array\n",
    "\n",
    "\n",
    "\n",
    "np.random.seed(11)\n",
    "input_array = np.random.randint(0, 5, 10)\n",
    "\n",
    "print(input_array)\n",
    "print(mark_first(input_array))"
   ]
  },
  {
   "cell_type": "code",
   "execution_count": 11,
   "metadata": {},
   "outputs": [
    {
     "name": "stdout",
     "output_type": "stream",
     "text": [
      "[[26 64 81]\n",
      " [92 82 56]\n",
      " [14 77 34]\n",
      " [72 83 25]\n",
      " [93 49 33]] \n",
      "\n",
      "['0.1505', '0.5904', '0.3086']\n"
     ]
    }
   ],
   "source": [
    "def min_by_max(my_array):\n",
    "    \"\"\"\n",
    "    my_array: 2d ndarray\n",
    "    return: 1d ndarray / row vector\n",
    "    \"\"\"\n",
    "    \n",
    "    return np.asarray(list(map(lambda x: np.min(x)/np.max(x), my_array.transpose()[:])))\n",
    "\n",
    "np.random.seed(11)\n",
    "my_array = np.random.randint(1,100, [5,3])\n",
    "print(my_array, '\\n')\n",
    "print(['{:.4f}'.format(el) for el in min_by_max(my_array)])"
   ]
  },
  {
   "cell_type": "code",
   "execution_count": 90,
   "metadata": {},
   "outputs": [
    {
     "name": "stdout",
     "output_type": "stream",
     "text": [
      "[[0.18026969 0.01947524]\n",
      " [0.46321853 0.72493393]\n",
      " [0.4202036  0.4854271 ]\n",
      " [0.01278081 0.48737161]\n",
      " [0.94180665 0.85079509]\n",
      " [0.72996447 0.10873607]] \n",
      "\n",
      "[[0.18131863 0.10761654]\n",
      " [0.860291   1.00220684]\n",
      " [0.64203624 0.857294  ]\n",
      " [0.48753916 1.54457837]\n",
      " [1.26919347 0.73467107]\n",
      " [0.73801874 0.14787343]]\n"
     ]
    }
   ],
   "source": [
    "def cart2polar(cart_coord):\n",
    "    \"\"\"\n",
    "    cart: 2d ndarray / rows are x and y\n",
    "    return:  2d ndarray / rows are distance and angle\n",
    "    \"\"\"\n",
    "    def transform(x,y):\n",
    "        fi = np.pi/2.\n",
    "        if(x > 0):\n",
    "            if(y >= 0):\n",
    "                fi = np.arctan(y/x)\n",
    "            else:\n",
    "                fi = np.arctan(y/x) + 2*np.pi\n",
    "        elif(x < 0):\n",
    "            fi = np.arctan(y/x) + np.pi\n",
    "        elif(x == 0):\n",
    "            if(y < 0):\n",
    "                fi = 3*np.pi/2.\n",
    "        r = np.power(np.power(x,2) + np.power(y,2),0.5)\n",
    "        return r, fi\n",
    "    \n",
    "    tr = np.vectorize(transform)\n",
    "    \n",
    "    return np.asarray(tr(cart_coord[:,0],cart_coord[:,1])).transpose().reshape(-1,2) \n",
    "\n",
    "np.random.seed(11)\n",
    "my_array = np.random.random((6,2))\n",
    "print(my_array, '\\n')\n",
    "print(cart2polar(my_array))"
   ]
  },
  {
   "cell_type": "code",
   "execution_count": 183,
   "metadata": {},
   "outputs": [
    {
     "name": "stdout",
     "output_type": "stream",
     "text": [
      "57 34 3 2\n"
     ]
    },
    {
     "data": {
      "text/plain": [
       "(-0.5, 33.5, 56.5, -0.5)"
      ]
     },
     "execution_count": 183,
     "metadata": {},
     "output_type": "execute_result"
    },
    {
     "data": {
      "image/png": "[encoded data removed]",
      "text/plain": [
       "<Figure size 640x480 with 1 Axes>"
      ]
     },
     "metadata": {},
     "output_type": "display_data"
    }
   ],
   "source": [
    "import matplotlib.pyplot as plt \n",
    "from matplotlib import image\n",
    "\n",
    "moon = image.imread('moon.jpg')\n",
    "\n",
    "y_grid = 4 #int(12 / 3)\n",
    "x_grid = 3 #int(12 / 4)\n",
    "\n",
    "y_size = np.shape(moon)[0] // y_grid\n",
    "y_shift = np.shape(moon)[0] % y_grid\n",
    "\n",
    "x_size = np.shape(moon)[1] // x_grid\n",
    "x_shift = np.shape(moon)[1] % x_grid\n",
    "\n",
    "y_size_origin = np.shape(moon)[0] - y_shift\n",
    "x_size_origin = np.shape(moon)[1] - x_shift\n",
    "\n",
    "print(y_size,x_size,y_shift,x_shift)\n",
    "\n",
    "moon = np.asarray(moon)[y_shift:,x_shift:,:]\n",
    "\n",
    "pixel_info_size = np.shape(moon)[2]\n",
    "\n",
    "moon = moon.reshape(y_size*y_grid*x_grid,x_size*pixel_info_size).transpose().reshape(x_size*pixel_info_size,y_size*y_grid,x_grid).transpose().reshape(x_grid*y_grid,x_size*pixel_info_size*y_size).transpose().reshape(x_size*pixel_info_size*y_size,x_grid,y_grid).transpose().reshape(y_grid,x_grid,y_size,x_size,pixel_info_size)\n",
    "#print(moon)\n",
    "plt.imshow(moon[0,1])\n",
    "plt.axis('off')"
   ]
  }
 ],
 "metadata": {
  "kernelspec": {
   "display_name": "tf",
   "language": "python",
   "name": "python3"
  },
  "language_info": {
   "codemirror_mode": {
    "name": "ipython",
    "version": 3
   },
   "file_extension": ".py",
   "mimetype": "text/x-python",
   "name": "python",
   "nbconvert_exporter": "python",
   "pygments_lexer": "ipython3",
   "version": "3.10.13"
  },
  "orig_nbformat": 4
 },
 "nbformat": 4,
 "nbformat_minor": 2
}
