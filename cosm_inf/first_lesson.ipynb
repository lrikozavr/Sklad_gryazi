{
 "cells": [
  {
   "cell_type": "code",
   "execution_count": 1,
   "metadata": {},
   "outputs": [],
   "source": [
    "# -*- coding: utf-8 -*-"
   ]
  },
  {
   "cell_type": "code",
   "execution_count": 3,
   "metadata": {},
   "outputs": [
    {
     "data": {
      "text/plain": [
       "[6, 12, 18, 4, 12, 20, 28]"
      ]
     },
     "execution_count": 3,
     "metadata": {},
     "output_type": "execute_result"
    }
   ],
   "source": [
    "# Create a list by picking an odd-index items from the first list and even index items from the second\n",
    "l1 = [3, 6, 9, 12, 15, 18, 21]\n",
    "l2 = [4, 8, 12, 16, 20, 24, 28]\n",
    "\n",
    "l31 = [l1[i] for i in range(1, len(l1), 2)] \n",
    "l32 = [l2[i] for i in range(0, len(l2), 2)]\n",
    "\n",
    "l31+l32"
   ]
  },
  {
   "cell_type": "code",
   "execution_count": 4,
   "metadata": {},
   "outputs": [
    {
     "name": "stdout",
     "output_type": "stream",
     "text": [
      "[[8, 45, 11], [12, 14, 23], [89, 45, 78]]\n"
     ]
    }
   ],
   "source": [
    "# Slice list into 3 equal chunks and reverse each chunk\n",
    "sample_list = [11, 45, 8, 23, 14, 12, 78, 45, 89]\n",
    "\n",
    "# hint: use slice() in a loop\n",
    "\n",
    "d = len(sample_list)//3\n",
    "\n",
    "slice_rule_reverse = slice(3,-4,-1)\n",
    "\n",
    "result_array = []\n",
    "for index in range(d):\n",
    "    slice_rule = slice(index*3,index*3+3,1)\n",
    "    temp_array = sample_list[slice_rule]\n",
    "    result_array.append(temp_array[slice_rule_reverse])\n",
    "print(result_array)"
   ]
  },
  {
   "cell_type": "code",
   "execution_count": 38,
   "metadata": {},
   "outputs": [
    {
     "name": "stdout",
     "output_type": "stream",
     "text": [
      "{11: 2, 45: 3, 8: 1, 23: 2, 89: 1}\n"
     ]
    }
   ],
   "source": [
    "# Count the occurrence of each element from a list\n",
    "sample_list = [11, 45, 8, 11, 23, 45, 23, 45, 89]\n",
    "\n",
    "# hint: use dict()\n",
    "\n",
    "main_dict = dict()\n",
    "\n",
    "for list_value in sample_list:\n",
    "    if list_value in main_dict.keys():\n",
    "        main_dict[list_value] += 1\n",
    "    else:\n",
    "        main_dict[list_value] = 1\n",
    "\n",
    "print(main_dict)"
   ]
  },
  {
   "cell_type": "code",
   "execution_count": 40,
   "metadata": {},
   "outputs": [
    {
     "name": "stdout",
     "output_type": "stream",
     "text": [
      "{65, 23, 42, 78}\n"
     ]
    }
   ],
   "source": [
    "# Find the intersection (common) of two sets and remove those elements from the first set\n",
    "first_set = {23, 42, 65, 57, 78, 83, 29}\n",
    "second_set = {57, 83, 29, 67, 73, 43, 48}\n",
    "\n",
    "# hint: use intersection() and remove() \n",
    "for name in first_set.intersection(second_set):\n",
    "    first_set.remove(name)\n",
    "\n",
    "print(first_set)\n",
    "\n"
   ]
  },
  {
   "cell_type": "code",
   "execution_count": 45,
   "metadata": {},
   "outputs": [
    {
     "name": "stdout",
     "output_type": "stream",
     "text": [
      "[7, 14, 21, 28, 35, 42, 49, 56, 63, 70, 77, 84, 91, 98, 105, 112, 119, 126, 133, 140, 147, 154, 161, 168, 175, 182, 189, 196, 203, 210, 217, 224, 231, 238, 245, 252, 259, 266, 273, 280, 287, 294, 301, 308, 315, 322, 329, 336, 343, 350, 357, 364, 371, 378, 385, 392, 399, 406, 413, 420, 427, 434, 441, 448, 455, 462, 469, 476, 483, 490, 497, 504, 511, 518, 525, 532, 539, 546, 553, 560, 567, 574, 581, 588, 595, 602, 609, 616, 623, 630, 637, 644, 651, 658, 665, 672, 679, 686, 693, 700, 707, 714, 721, 728, 735, 742, 749, 756, 763, 770, 777, 784, 791, 798, 805, 812, 819, 826, 833, 840, 847, 854, 861, 868, 875, 882, 889, 896, 903, 910, 917, 924, 931, 938, 945, 952, 959, 966, 973, 980, 987, 994, 1001]\n"
     ]
    }
   ],
   "source": [
    "# Find all of the numbers from 1-1000 that are divisible by 7\n",
    "\n",
    "list_of_number_div_by_7 = []\n",
    "#for i in range(7,1001,1):\n",
    "#    if i%7 == 0:\n",
    "#        list_of_number_div_by_7.append(i)\n",
    "\n",
    "count_of_list_of_number_div_by_7 = 1001//7\n",
    "for i in range(1,count_of_list_of_number_div_by_7+1):\n",
    "    list_of_number_div_by_7.append(i*7)\n",
    "\n",
    "print(list_of_number_div_by_7)"
   ]
  },
  {
   "cell_type": "code",
   "execution_count": 46,
   "metadata": {},
   "outputs": [
    {
     "name": "stdout",
     "output_type": "stream",
     "text": [
      "[3, 13, 23, 30, 31, 32, 33, 34, 35, 36, 37, 38, 39, 43, 53, 63, 73, 83, 93, 103, 113, 123, 130, 131, 132, 133, 134, 135, 136, 137, 138, 139, 143, 153, 163, 173, 183, 193, 203, 213, 223, 230, 231, 232, 233, 234, 235, 236, 237, 238, 239, 243, 253, 263, 273, 283, 293, 300, 301, 302, 303, 304, 305, 306, 307, 308, 309, 310, 311, 312, 313, 314, 315, 316, 317, 318, 319, 320, 321, 322, 323, 324, 325, 326, 327, 328, 329, 330, 331, 332, 333, 334, 335, 336, 337, 338, 339, 340, 341, 342, 343, 344, 345, 346, 347, 348, 349, 350, 351, 352, 353, 354, 355, 356, 357, 358, 359, 360, 361, 362, 363, 364, 365, 366, 367, 368, 369, 370, 371, 372, 373, 374, 375, 376, 377, 378, 379, 380, 381, 382, 383, 384, 385, 386, 387, 388, 389, 390, 391, 392, 393, 394, 395, 396, 397, 398, 399, 403, 413, 423, 430, 431, 432, 433, 434, 435, 436, 437, 438, 439, 443, 453, 463, 473, 483, 493, 503, 513, 523, 530, 531, 532, 533, 534, 535, 536, 537, 538, 539, 543, 553, 563, 573, 583, 593, 603, 613, 623, 630, 631, 632, 633, 634, 635, 636, 637, 638, 639, 643, 653, 663, 673, 683, 693, 703, 713, 723, 730, 731, 732, 733, 734, 735, 736, 737, 738, 739, 743, 753, 763, 773, 783, 793, 803, 813, 823, 830, 831, 832, 833, 834, 835, 836, 837, 838, 839, 843, 853, 863, 873, 883, 893, 903, 913, 923, 930, 931, 932, 933, 934, 935, 936, 937, 938, 939, 943, 953, 963, 973, 983, 993]\n"
     ]
    }
   ],
   "source": [
    "# Find all of the numbers from 1-1000 that have a 3 in them\n",
    "\n",
    "list_of_number_with_3 = []\n",
    "for i in range(1000):\n",
    "    if i % 10 == 3 or i // 10 % 10 == 3 or i // 100 == 3:\n",
    "        list_of_number_with_3.append(i)\n",
    "\n",
    "print(list_of_number_with_3)\n"
   ]
  },
  {
   "cell_type": "code",
   "execution_count": 47,
   "metadata": {},
   "outputs": [
    {
     "name": "stdout",
     "output_type": "stream",
     "text": [
      "5\n"
     ]
    }
   ],
   "source": [
    "# Count the number of spaces in a string\n",
    "phrase = 'Hello, folks! how are you today?'\n",
    "\n",
    "print(len(phrase.split(\" \")) - 1)\n"
   ]
  },
  {
   "cell_type": "code",
   "execution_count": 48,
   "metadata": {},
   "outputs": [
    {
     "name": "stdout",
     "output_type": "stream",
     "text": [
      "[(3, 1), (2, 3), (2, 3), (1, 4), (4, 5)]\n"
     ]
    }
   ],
   "source": [
    "# Sort a list of tuples by their second item\n",
    "tosort = [(2,3), (4,5), (1,4), (3,1), (2,3)]\n",
    "\n",
    "print(sorted(tosort, key=lambda x: x[1]))"
   ]
  },
  {
   "cell_type": "code",
   "execution_count": 49,
   "metadata": {},
   "outputs": [
    {
     "name": "stdout",
     "output_type": "stream",
     "text": [
      "[{'Name': 'Nicole', 'Programming': 'C', 'Year of Experience': 1}, {'Name': 'Mark', 'Programming': 'Python', 'Year of Experience': 3}, {'Name': 'Jason', 'Programming': 'R', 'Year of Experience': 10}]\n"
     ]
    }
   ],
   "source": [
    "# sort a list of dictionaries by the 'Year of Experience' value\n",
    "programmer = [{'Name':'Mark', 'Programming':'Python', 'Year of Experience': 3}, {'Name':'Nicole', 'Programming':'C', 'Year of Experience': 1},{'Name':'Jason', 'Programming':'R', 'Year of Experience': 10}] \n",
    "\n",
    "print(sorted(programmer, key=lambda x: x[\"Year of Experience\"]))"
   ]
  },
  {
   "cell_type": "code",
   "execution_count": 57,
   "metadata": {},
   "outputs": [
    {
     "name": "stdout",
     "output_type": "stream",
     "text": [
      "even:\t [22, 56, 36, 78, 2, 66]\n",
      "odd:\t [77, 99, 45, 87, 93, 5]\n"
     ]
    }
   ],
   "source": [
    "# separate the odd and even number from a list of numbers\n",
    "# use lambda and filter\n",
    "input = [22, 56, 77, 99, 45, 36, 87, 93, 5, 78, 2, 66]\n",
    "\n",
    "flag = (\"even\", \"odd\")\n",
    "\n",
    "separate_even_number = lambda x: x % 2 == 0\n",
    "separate_odd_number = lambda x: x % 2 == 1\n",
    "\n",
    "\n",
    "list_even_number = filter(separate_even_number,input)\n",
    "list_odd_number = filter(separate_odd_number,input)\n",
    "\n",
    "print(\"even:\\t\",list(list_even_number))\n",
    "print(\"odd:\\t\",list(list_odd_number))\n"
   ]
  },
  {
   "cell_type": "code",
   "execution_count": 62,
   "metadata": {},
   "outputs": [
    {
     "name": "stdout",
     "output_type": "stream",
     "text": [
      "['-2', '-1', '0', '1', '2', '9']\n"
     ]
    }
   ],
   "source": [
    "# Sort a list of strings numerically \n",
    "l = [\"1\", \"2\", \"9\", \"0\", \"-1\", \"-2\"]\n",
    "\n",
    "print(sorted(l,key=lambda x: float(x)))"
   ]
  },
  {
   "cell_type": "code",
   "execution_count": null,
   "metadata": {},
   "outputs": [],
   "source": [
    "# Create a lambda function, that has two parameters, and returns the largest of these two\n",
    "\n",
    "max = lambda a, b: a if a > b else b"
   ]
  }
 ],
 "metadata": {
  "kernelspec": {
   "display_name": "tf",
   "language": "python",
   "name": "python3"
  },
  "language_info": {
   "codemirror_mode": {
    "name": "ipython",
    "version": 3
   },
   "file_extension": ".py",
   "mimetype": "text/x-python",
   "name": "python",
   "nbconvert_exporter": "python",
   "pygments_lexer": "ipython3",
   "version": "3.10.13"
  },
  "orig_nbformat": 4
 },
 "nbformat": 4,
 "nbformat_minor": 2
}
